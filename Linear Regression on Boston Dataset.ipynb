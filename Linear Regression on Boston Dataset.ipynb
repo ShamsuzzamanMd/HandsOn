{
 "cells": [
  {
   "cell_type": "markdown",
   "metadata": {},
   "source": [
    "Here in this HondsOn, I am trying to build a Linear Regression model on the famous Boston Housing dataset. "
   ]
  },
  {
   "cell_type": "code",
   "execution_count": 3,
   "metadata": {},
   "outputs": [],
   "source": [
    "# Dataset\n",
    "from mglearn.datasets import load_extended_boston"
   ]
  },
  {
   "cell_type": "code",
   "execution_count": 4,
   "metadata": {},
   "outputs": [],
   "source": [
    "# Library\n",
    "from sklearn.model_selection import train_test_split\n",
    "from sklearn.linear_model import LinearRegression"
   ]
  },
  {
   "cell_type": "code",
   "execution_count": 5,
   "metadata": {},
   "outputs": [],
   "source": [
    "X, y = load_extended_boston()"
   ]
  },
  {
   "cell_type": "code",
   "execution_count": 6,
   "metadata": {},
   "outputs": [],
   "source": [
    "# Splitting the dataset\n",
    "X_train, X_test, y_train, y_test = train_test_split(X, y, random_state =0)"
   ]
  },
  {
   "cell_type": "code",
   "execution_count": 8,
   "metadata": {},
   "outputs": [
    {
     "data": {
      "text/plain": [
       "LinearRegression(copy_X=True, fit_intercept=True, n_jobs=1, normalize=False)"
      ]
     },
     "execution_count": 8,
     "metadata": {},
     "output_type": "execute_result"
    }
   ],
   "source": [
    "# Linear model\n",
    "lr = LinearRegression()\n",
    "lr.fit(X_train, y_train)"
   ]
  },
  {
   "cell_type": "code",
   "execution_count": 10,
   "metadata": {},
   "outputs": [
    {
     "name": "stdout",
     "output_type": "stream",
     "text": [
      "Coefficient [-4.02752236e+02 -5.00710011e+01 -1.33316908e+02 -1.20021023e+01\n",
      " -1.27106873e+01  2.83052585e+01  5.44920273e+01 -5.17339345e+01\n",
      "  2.52602789e+01  3.64990704e+01 -1.01038605e+01 -1.96288897e+01\n",
      " -2.13677312e+01  1.46473758e+01  2.89505391e+03  1.51026852e+03\n",
      "  1.17995400e+02 -2.65658068e+01  3.12488451e+01 -3.14463610e+01\n",
      "  4.52535825e+01  1.28349557e+03 -2.24600306e+03  2.22198614e+02\n",
      " -4.66264354e-01  4.07661992e+01 -1.34357879e+01 -1.90960479e+01\n",
      " -2.77605103e+00 -8.09710327e+01  9.73141885e+00  5.13324280e+00\n",
      " -7.87928926e-01 -7.60269229e+00  3.36717627e+01 -1.15051345e+01\n",
      "  6.62672250e+01 -1.75632324e+01  4.29826712e+01  1.27662043e+00\n",
      "  6.09633677e-01  5.71868313e+01  1.40823103e+01  5.53404218e+01\n",
      " -3.03481907e+01  1.88121756e+01 -1.37772336e+01  6.09790464e+01\n",
      " -1.25792000e+01 -1.20021023e+01 -1.76980605e+01 -3.40279371e+01\n",
      "  7.15036708e+00 -8.41017086e+00  1.69857259e+01 -1.29412471e+01\n",
      " -1.18060747e+01  5.71334581e+01 -1.75814680e+01  1.69557926e+00\n",
      "  2.72177388e+01 -1.67445867e+01  7.50299805e+01 -3.02717569e+01\n",
      "  4.77801366e+01 -4.05414199e+01  5.50445125e+00  2.15309336e+01\n",
      "  2.53662918e+01 -4.94853071e+01  2.81089236e+01  1.04685421e+01\n",
      " -7.15589798e+01 -2.37402020e+01  9.57368270e+00 -3.78757608e+00\n",
      "  1.21433995e+00 -4.71953075e+00  4.12379498e+01 -3.77021533e+01\n",
      " -2.15605195e+00 -2.62959500e+01 -3.32015181e+01  4.59315483e+01\n",
      " -2.30143466e+01 -1.75145726e+01 -1.40847792e+01 -2.04896476e+01\n",
      "  3.65253034e+01 -9.48974963e+01  1.43233527e+02 -1.56740667e+01\n",
      " -1.49732134e+01 -2.86130369e+01 -3.12520263e+01  2.45648366e+01\n",
      " -1.78047541e+01  4.03508210e+00  1.71067619e+00  3.44735201e+01\n",
      "  1.12185643e+01  1.14301989e+00  3.73717124e+00  3.13846206e+01]\n",
      "Intercept 31.645174100822878\n"
     ]
    }
   ],
   "source": [
    "# coefficients\n",
    "print(\"Coefficient {}\".format(lr.coef_))\n",
    "#intercept\n",
    "print(\"Intercept {}\".format(lr.intercept_))"
   ]
  },
  {
   "cell_type": "code",
   "execution_count": 11,
   "metadata": {},
   "outputs": [
    {
     "name": "stdout",
     "output_type": "stream",
     "text": [
      "score 0.9523526436864238\n",
      "Score 0.6057754892935614\n"
     ]
    }
   ],
   "source": [
    "# Score \n",
    "print(\"score {}\".format(lr.score(X_train, y_train)))\n",
    "print(\"Score {}\".format(lr.score(X_test, y_test)))"
   ]
  },
  {
   "cell_type": "markdown",
   "metadata": {},
   "source": [
    "According to the score values, the model has overfitting. So, we should find another model with complexity control. In this case, we can use the most commonly used standard linear regression ( ridge regression). "
   ]
  },
  {
   "cell_type": "markdown",
   "metadata": {},
   "source": [
    "        Ref. Introduction to Machince Learning with Python"
   ]
  },
  {
   "cell_type": "code",
   "execution_count": null,
   "metadata": {},
   "outputs": [],
   "source": []
  }
 ],
 "metadata": {
  "kernelspec": {
   "display_name": "Python 3",
   "language": "python",
   "name": "python3"
  },
  "language_info": {
   "codemirror_mode": {
    "name": "ipython",
    "version": 3
   },
   "file_extension": ".py",
   "mimetype": "text/x-python",
   "name": "python",
   "nbconvert_exporter": "python",
   "pygments_lexer": "ipython3",
   "version": "3.6.5"
  }
 },
 "nbformat": 4,
 "nbformat_minor": 2
}
